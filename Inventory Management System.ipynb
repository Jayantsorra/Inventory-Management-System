{
 "cells": [
  {
   "cell_type": "code",
   "execution_count": null,
   "id": "9419f801-b237-4609-8ed8-9e57371a2e2d",
   "metadata": {},
   "outputs": [
    {
     "name": "stdout",
     "output_type": "stream",
     "text": [
      "\n",
      "1. Add item\n",
      "2. Update item\n",
      "3. Remove item\n",
      "4. Display inventory\n",
      "5. Exit\n"
     ]
    },
    {
     "name": "stdin",
     "output_type": "stream",
     "text": [
      "Enter your choice:  1\n",
      "Enter item name:  cakes\n",
      "Enter item category:  5\n",
      "Enter item quantity:  65\n",
      "Enter item price:  40\n"
     ]
    },
    {
     "name": "stdout",
     "output_type": "stream",
     "text": [
      "cakes added to inventory.\n",
      "\n",
      "1. Add item\n",
      "2. Update item\n",
      "3. Remove item\n",
      "4. Display inventory\n",
      "5. Exit\n"
     ]
    },
    {
     "name": "stdin",
     "output_type": "stream",
     "text": [
      "Enter your choice:  4\n"
     ]
    },
    {
     "name": "stdout",
     "output_type": "stream",
     "text": [
      "Current Inventory:\n",
      "Name: cakes, Category: 5, Quantity: 65, Price: 40.0\n",
      "\n",
      "1. Add item\n",
      "2. Update item\n",
      "3. Remove item\n",
      "4. Display inventory\n",
      "5. Exit\n"
     ]
    }
   ],
   "source": [
    "class Item:\n",
    "    def __init__(self, name, category, quantity, price):\n",
    "        self.name = name\n",
    "        self.category = category\n",
    "        self.quantity = quantity\n",
    "        self.price = price\n",
    "\n",
    "class Inventory:\n",
    "    def __init__(self):\n",
    "        self.items = {}\n",
    "\n",
    "    def add_item(self, name, category, quantity, price):\n",
    "        if name in self.items:\n",
    "            print(\"Item already exists in inventory.\")\n",
    "        else:\n",
    "            self.items[name] = Item(name, category, quantity, price)\n",
    "            print(f\"{name} added to inventory.\")\n",
    "\n",
    "    def update_item(self, name, quantity=None, price=None):\n",
    "        if name not in self.items:\n",
    "            print(\"Item does not exist in inventory.\")\n",
    "        else:\n",
    "            item = self.items[name]\n",
    "            if quantity is not None:\n",
    "                item.quantity = quantity\n",
    "                print(f\"Quantity of {name} updated to {quantity}.\")\n",
    "            if price is not None:\n",
    "                item.price = price\n",
    "                print(f\"Price of {name} updated to {price}.\")\n",
    "\n",
    "    def remove_item(self, name):\n",
    "        if name not in self.items:\n",
    "            print(\"Item does not exist in inventory.\")\n",
    "        else:\n",
    "            del self.items[name]\n",
    "            print(f\"{name} removed from inventory.\")\n",
    "\n",
    "    def display_inventory(self):\n",
    "        print(\"Current Inventory:\")\n",
    "        for name, item in self.items.items():\n",
    "            print(f\"Name: {item.name}, Category: {item.category}, Quantity: {item.quantity}, Price: {item.price}\")\n",
    "\n",
    "# Example usage with user inputs\n",
    "inventory = Inventory()\n",
    "\n",
    "while True:\n",
    "    print(\"\\n1. Add item\")\n",
    "    print(\"2. Update item\")\n",
    "    print(\"3. Remove item\")\n",
    "    print(\"4. Display inventory\")\n",
    "    print(\"5. Exit\")\n",
    "\n",
    "    choice = input(\"Enter your choice: \")\n",
    "\n",
    "    if choice == '1':\n",
    "        name = input(\"Enter item name: \")\n",
    "        category = input(\"Enter item category: \")\n",
    "        quantity = int(input(\"Enter item quantity: \"))\n",
    "        price = float(input(\"Enter item price: \"))\n",
    "        inventory.add_item(name, category, quantity, price)\n",
    "    elif choice == '2':\n",
    "        name = input(\"Enter item name: \")\n",
    "        quantity = input(\"Enter new quantity (leave blank to keep current): \")\n",
    "        if quantity:\n",
    "            quantity = int(quantity)\n",
    "        price = input(\"Enter new price (leave blank to keep current): \")\n",
    "        if price:\n",
    "            price = float(price)\n",
    "        inventory.update_item(name, quantity, price)\n",
    "    elif choice == '3':\n",
    "        name = input(\"Enter item name: \")\n",
    "        inventory.remove_item(name)\n",
    "    elif choice == '4':\n",
    "        inventory.display_inventory()\n",
    "    elif choice == '5':\n",
    "        break\n",
    "    else:\n",
    "        print(\"Invalid choice. Please try again.\")\n"
   ]
  },
  {
   "cell_type": "code",
   "execution_count": null,
   "id": "3a381ea9-76b4-4a34-84fb-1b0ffd22a942",
   "metadata": {},
   "outputs": [],
   "source": []
  }
 ],
 "metadata": {
  "kernelspec": {
   "display_name": "Python 3 (ipykernel)",
   "language": "python",
   "name": "python3"
  },
  "language_info": {
   "codemirror_mode": {
    "name": "ipython",
    "version": 3
   },
   "file_extension": ".py",
   "mimetype": "text/x-python",
   "name": "python",
   "nbconvert_exporter": "python",
   "pygments_lexer": "ipython3",
   "version": "3.11.7"
  }
 },
 "nbformat": 4,
 "nbformat_minor": 5
}
